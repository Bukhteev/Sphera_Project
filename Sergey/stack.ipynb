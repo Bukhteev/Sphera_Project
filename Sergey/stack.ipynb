{
 "cells": [
  {
   "cell_type": "code",
   "execution_count": null,
   "metadata": {},
   "outputs": [],
   "source": [
    "def stack_pred(estimator, X, y, Xt, k, gr):\n",
    "    group_kfold = GroupKFold(n_splits=k)\n",
    "    sX = np.zeros(len(X))\n",
    "    sXt = np.zeros(len(Xt))\n",
    "    for train_index, test_index in group_kfold.split(X, y, gr):\n",
    "        X_train, X_test = X[train_index], X[test_index]\n",
    "        y_train, y_test = y[train_index], y[test_index]\n",
    "        estimator.fit(X_train, y_train)\n",
    "        pred = estimator.predict(X_test)\n",
    "        pred_Xt = estimator.predict(Xt)\n",
    "        sX[test_index] = pred\n",
    "        sXt = sXt + pred_Xt\n",
    "    sXt = sXt/k\n",
    "    return sX, sXt"
   ]
  }
 ],
 "metadata": {
  "kernelspec": {
   "display_name": "Python 3",
   "language": "python",
   "name": "python3"
  },
  "language_info": {
   "codemirror_mode": {
    "name": "ipython",
    "version": 3
   },
   "file_extension": ".py",
   "mimetype": "text/x-python",
   "name": "python",
   "nbconvert_exporter": "python",
   "pygments_lexer": "ipython3",
   "version": "3.7.1"
  }
 },
 "nbformat": 4,
 "nbformat_minor": 2
}
