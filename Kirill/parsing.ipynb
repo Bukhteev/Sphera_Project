{
 "cells": [
  {
   "cell_type": "code",
   "execution_count": 96,
   "metadata": {},
   "outputs": [],
   "source": [
    "import pandas\n",
    "from bs4 import BeautifulSoup\n",
    "import codecs\n",
    "import re\n",
    "\n",
    "\n",
    "path = '../../data/content/'\n",
    "new_path = '../../data/new_content/'"
   ]
  },
  {
   "cell_type": "code",
   "execution_count": 99,
   "metadata": {},
   "outputs": [],
   "source": [
    "begin = 1\n",
    "end = 28026"
   ]
  },
  {
   "cell_type": "code",
   "execution_count": 89,
   "metadata": {},
   "outputs": [],
   "source": [
    "alph = r'[\\%\\(\\)abcdefghijklmnopqrstuvwxyzABCDEFGHIJKLMNOPQRSTUVWXYZ/#;:!{}_|-]'\n",
    "def parser(html_doc):\n",
    "    soup = BeautifulSoup(html_doc, 'html.parser')\n",
    "#     title = BeautifulSoup(html_doc).title.text\n",
    "    for script in soup.find_all(\"script\"):\n",
    "        script.replace_with('')\n",
    "    new = re.sub(r'[\\s+\\d+\\n]', ' ', soup.get_text())\n",
    "    q = re.sub(alph, '', new)\n",
    "    m = re.sub('\\s+', ' ', q)\n",
    "    z = re.sub('Kb', '', m)\n",
    "    \n",
    "    return re.sub('\\s+[.,]', '', z)"
   ]
  },
  {
   "cell_type": "code",
   "execution_count": null,
   "metadata": {},
   "outputs": [],
   "source": [
    "%%time\n",
    "for i in range (begin, end):\n",
    "    filename = str(i) + '.dat'\n",
    "    with codecs.open(path + filename, 'r', 'utf-8') as f:\n",
    "        text = parser(f.read())\n",
    "    with open(new_path + filename, 'w') as f:\n",
    "        f.write(text)"
   ]
  },
  {
   "cell_type": "code",
   "execution_count": null,
   "metadata": {},
   "outputs": [],
   "source": []
  },
  {
   "cell_type": "code",
   "execution_count": 3,
   "metadata": {},
   "outputs": [],
   "source": []
  }
 ],
 "metadata": {
  "kernelspec": {
   "display_name": "Python 3",
   "language": "python",
   "name": "python3"
  },
  "language_info": {
   "codemirror_mode": {
    "name": "ipython",
    "version": 3
   },
   "file_extension": ".py",
   "mimetype": "text/x-python",
   "name": "python",
   "nbconvert_exporter": "python",
   "pygments_lexer": "ipython3",
   "version": "3.5.2"
  }
 },
 "nbformat": 4,
 "nbformat_minor": 2
}
