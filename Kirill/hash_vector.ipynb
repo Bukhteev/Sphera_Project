{
 "cells": [
  {
   "cell_type": "code",
   "execution_count": 1,
   "metadata": {},
   "outputs": [],
   "source": [
    "import pandas as pd\n",
    "import numpy as np\n",
    "from tqdm import tqdm"
   ]
  },
  {
   "cell_type": "markdown",
   "metadata": {},
   "source": [
    "## Load Data"
   ]
  },
  {
   "cell_type": "code",
   "execution_count": null,
   "metadata": {},
   "outputs": [],
   "source": [
    "train = pd.read_csv('../../data/train_groups.csv')\n",
    "test  = pd.read_csv('../../data/test_groups.csv')\n",
    "\n",
    "test['is_train'] = False\n",
    "train['is_train'] = True\n",
    "\n",
    "data_x = pd.concat(( train.drop('target', 1), test))\n",
    "\n"
   ]
  },
  {
   "cell_type": "code",
   "execution_count": null,
   "metadata": {},
   "outputs": [],
   "source": [
    "title = pd.read_csv('nem_title.csv')\n",
    "\n",
    "data = data_x.merge(title, how = 'left', on = 'doc_id')\n",
    "data = data.replace(np.nan, 'noinformation')\n",
    "\n"
   ]
  },
  {
   "cell_type": "markdown",
   "metadata": {},
   "source": [
    "## Make hash"
   ]
  },
  {
   "cell_type": "code",
   "execution_count": 5,
   "metadata": {},
   "outputs": [],
   "source": [
    "from sklearn.feature_extraction.text import HashingVectorizer\n",
    "\n",
    "# initialize\n",
    "vectorizer = HashingVectorizer(n_features=2**14, dtype = 'float32' ,ngram_range=(1, 3) )\n",
    "# make vector\n",
    "X = vectorizer.fit_transform(data.information )\n",
    "\n"
   ]
  },
  {
   "cell_type": "code",
   "execution_count": null,
   "metadata": {},
   "outputs": [],
   "source": [
    "# vector to DataFrame\n",
    "data_hash = pd.DataFrame(X.toarray())"
   ]
  },
  {
   "cell_type": "code",
   "execution_count": null,
   "metadata": {},
   "outputs": [],
   "source": [
    "# make smth common with train and test\n",
    "\n",
    "data_hash['pair_id'] = data.pair_id"
   ]
  }
 ],
 "metadata": {
  "kernelspec": {
   "display_name": "Python 3",
   "language": "python",
   "name": "python3"
  },
  "language_info": {
   "codemirror_mode": {
    "name": "ipython",
    "version": 3
   },
   "file_extension": ".py",
   "mimetype": "text/x-python",
   "name": "python",
   "nbconvert_exporter": "python",
   "pygments_lexer": "ipython3",
   "version": "3.5.2"
  }
 },
 "nbformat": 4,
 "nbformat_minor": 2
}
