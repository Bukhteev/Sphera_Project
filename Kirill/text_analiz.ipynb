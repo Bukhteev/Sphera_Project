{
 "cells": [
  {
   "cell_type": "code",
   "execution_count": 1,
   "metadata": {},
   "outputs": [],
   "source": [
    "from tqdm import tqdm\n",
    "import pandas as pd\n",
    "import numpy as np\n",
    "from sklearn.feature_extraction.text import CountVectorizer,TfidfVectorizer\n",
    "from sklearn.decomposition import TruncatedSVD\n",
    "from sklearn.metrics import log_loss,confusion_matrix,classification_report,roc_curve,auc\n",
    "from scipy.spatial.distance import cosine"
   ]
  },
  {
   "cell_type": "code",
   "execution_count": 82,
   "metadata": {},
   "outputs": [],
   "source": [
    "data['target'] = train.target"
   ]
  },
  {
   "cell_type": "code",
   "execution_count": 85,
   "metadata": {},
   "outputs": [
    {
     "data": {
      "text/html": [
       "<div>\n",
       "<style scoped>\n",
       "    .dataframe tbody tr th:only-of-type {\n",
       "        vertical-align: middle;\n",
       "    }\n",
       "\n",
       "    .dataframe tbody tr th {\n",
       "        vertical-align: top;\n",
       "    }\n",
       "\n",
       "    .dataframe thead th {\n",
       "        text-align: right;\n",
       "    }\n",
       "</style>\n",
       "<table border=\"1\" class=\"dataframe\">\n",
       "  <thead>\n",
       "    <tr style=\"text-align: right;\">\n",
       "      <th></th>\n",
       "      <th>pair_id</th>\n",
       "      <th>group_id</th>\n",
       "      <th>doc_id</th>\n",
       "      <th>is_train</th>\n",
       "      <th>numbers</th>\n",
       "      <th>vowels</th>\n",
       "      <th>consonants</th>\n",
       "      <th>target</th>\n",
       "    </tr>\n",
       "  </thead>\n",
       "  <tbody>\n",
       "    <tr>\n",
       "      <th>pair_id</th>\n",
       "      <td>1.000000</td>\n",
       "      <td>0.999976</td>\n",
       "      <td>-0.024723</td>\n",
       "      <td>-0.852762</td>\n",
       "      <td>0.028207</td>\n",
       "      <td>0.000656</td>\n",
       "      <td>0.005171</td>\n",
       "      <td>0.041701</td>\n",
       "    </tr>\n",
       "    <tr>\n",
       "      <th>group_id</th>\n",
       "      <td>0.999976</td>\n",
       "      <td>1.000000</td>\n",
       "      <td>-0.025279</td>\n",
       "      <td>-0.851937</td>\n",
       "      <td>0.028102</td>\n",
       "      <td>0.000685</td>\n",
       "      <td>0.005197</td>\n",
       "      <td>0.041418</td>\n",
       "    </tr>\n",
       "    <tr>\n",
       "      <th>doc_id</th>\n",
       "      <td>-0.024723</td>\n",
       "      <td>-0.025279</td>\n",
       "      <td>1.000000</td>\n",
       "      <td>-0.013971</td>\n",
       "      <td>0.014277</td>\n",
       "      <td>-0.021634</td>\n",
       "      <td>-0.021704</td>\n",
       "      <td>-0.017996</td>\n",
       "    </tr>\n",
       "    <tr>\n",
       "      <th>is_train</th>\n",
       "      <td>-0.852762</td>\n",
       "      <td>-0.851937</td>\n",
       "      <td>-0.013971</td>\n",
       "      <td>1.000000</td>\n",
       "      <td>-0.021930</td>\n",
       "      <td>0.000921</td>\n",
       "      <td>-0.003800</td>\n",
       "      <td>NaN</td>\n",
       "    </tr>\n",
       "    <tr>\n",
       "      <th>numbers</th>\n",
       "      <td>0.028207</td>\n",
       "      <td>0.028102</td>\n",
       "      <td>0.014277</td>\n",
       "      <td>-0.021930</td>\n",
       "      <td>1.000000</td>\n",
       "      <td>0.272802</td>\n",
       "      <td>0.279844</td>\n",
       "      <td>-0.104665</td>\n",
       "    </tr>\n",
       "    <tr>\n",
       "      <th>vowels</th>\n",
       "      <td>0.000656</td>\n",
       "      <td>0.000685</td>\n",
       "      <td>-0.021634</td>\n",
       "      <td>0.000921</td>\n",
       "      <td>0.272802</td>\n",
       "      <td>1.000000</td>\n",
       "      <td>0.974721</td>\n",
       "      <td>0.050869</td>\n",
       "    </tr>\n",
       "    <tr>\n",
       "      <th>consonants</th>\n",
       "      <td>0.005171</td>\n",
       "      <td>0.005197</td>\n",
       "      <td>-0.021704</td>\n",
       "      <td>-0.003800</td>\n",
       "      <td>0.279844</td>\n",
       "      <td>0.974721</td>\n",
       "      <td>1.000000</td>\n",
       "      <td>0.052329</td>\n",
       "    </tr>\n",
       "    <tr>\n",
       "      <th>target</th>\n",
       "      <td>0.041701</td>\n",
       "      <td>0.041418</td>\n",
       "      <td>-0.017996</td>\n",
       "      <td>NaN</td>\n",
       "      <td>-0.104665</td>\n",
       "      <td>0.050869</td>\n",
       "      <td>0.052329</td>\n",
       "      <td>1.000000</td>\n",
       "    </tr>\n",
       "  </tbody>\n",
       "</table>\n",
       "</div>"
      ],
      "text/plain": [
       "             pair_id  group_id    doc_id  is_train   numbers    vowels  \\\n",
       "pair_id     1.000000  0.999976 -0.024723 -0.852762  0.028207  0.000656   \n",
       "group_id    0.999976  1.000000 -0.025279 -0.851937  0.028102  0.000685   \n",
       "doc_id     -0.024723 -0.025279  1.000000 -0.013971  0.014277 -0.021634   \n",
       "is_train   -0.852762 -0.851937 -0.013971  1.000000 -0.021930  0.000921   \n",
       "numbers     0.028207  0.028102  0.014277 -0.021930  1.000000  0.272802   \n",
       "vowels      0.000656  0.000685 -0.021634  0.000921  0.272802  1.000000   \n",
       "consonants  0.005171  0.005197 -0.021704 -0.003800  0.279844  0.974721   \n",
       "target      0.041701  0.041418 -0.017996       NaN -0.104665  0.050869   \n",
       "\n",
       "            consonants    target  \n",
       "pair_id       0.005171  0.041701  \n",
       "group_id      0.005197  0.041418  \n",
       "doc_id       -0.021704 -0.017996  \n",
       "is_train     -0.003800       NaN  \n",
       "numbers       0.279844 -0.104665  \n",
       "vowels        0.974721  0.050869  \n",
       "consonants    1.000000  0.052329  \n",
       "target        0.052329  1.000000  "
      ]
     },
     "execution_count": 85,
     "metadata": {},
     "output_type": "execute_result"
    }
   ],
   "source": [
    "data.corr()"
   ]
  },
  {
   "cell_type": "code",
   "execution_count": null,
   "metadata": {},
   "outputs": [],
   "source": [
    "new_train"
   ]
  },
  {
   "cell_type": "code",
   "execution_count": 2,
   "metadata": {},
   "outputs": [],
   "source": [
    "train = pd.read_csv('../../data/train_groups.csv')\n",
    "test  = pd.read_csv('../../data/test_groups.csv')"
   ]
  },
  {
   "cell_type": "code",
   "execution_count": null,
   "metadata": {},
   "outputs": [],
   "source": []
  },
  {
   "cell_type": "code",
   "execution_count": 10,
   "metadata": {},
   "outputs": [],
   "source": [
    "test['is_train'] = False\n",
    "train['is_train'] = True\n"
   ]
  },
  {
   "cell_type": "code",
   "execution_count": 11,
   "metadata": {},
   "outputs": [],
   "source": [
    "data_x = pd.concat(( train.drop('target', 1), test))"
   ]
  },
  {
   "cell_type": "code",
   "execution_count": 5,
   "metadata": {},
   "outputs": [],
   "source": [
    "title = pd.read_csv('../../data/docs_titles.tsv', sep='\\t', encoding='utf-8', lineterminator='\\n')"
   ]
  },
  {
   "cell_type": "markdown",
   "metadata": {},
   "source": [
    "## Preprocess Text Labels"
   ]
  },
  {
   "cell_type": "code",
   "execution_count": null,
   "metadata": {},
   "outputs": [],
   "source": [
    "from nltk.corpus import stopwords\n",
    "from pymystem3 import Mystem\n",
    "from string import punctuation\n",
    "import re\n",
    "mystem = Mystem()\n",
    "russian_stopwords = stopwords.words(\"russian\")\n",
    "alph = r'[<>\\%\\(\\)abcdefghijklmnopqrstuvwxyzABCDEFGHIJKLMNOPQRSTUVWXYZ/#;:!{}_|\\-\\?.=&<>@\\[\\]\"\"]'\n",
    "\n",
    "information = []\n",
    "for i in title.title:\n",
    "    try:\n",
    "        tokens = mystem.lemmatize(i.lower())\n",
    "        tokens\n",
    "        tokens = [token for token in tokens if token not in russian_stopwords\\\n",
    "              and token != \" \" \\\n",
    "              and token.strip() not in punctuation]\n",
    "    \n",
    "        text = \" \".join(tokens)\n",
    "        text = re.sub(alph, '', text)\n",
    "        text = re.sub(r'[\\s+\\d+\\n]', ' ', text)\n",
    "        information.append(text)\n",
    "        \n",
    "    except:\n",
    "        information.append(np.nan)"
   ]
  },
  {
   "cell_type": "code",
   "execution_count": null,
   "metadata": {},
   "outputs": [],
   "source": [
    "title['information'] = information"
   ]
  },
  {
   "cell_type": "code",
   "execution_count": 6,
   "metadata": {},
   "outputs": [],
   "source": [
    "title = pd.read_csv('nem_title.csv')"
   ]
  },
  {
   "cell_type": "code",
   "execution_count": 12,
   "metadata": {},
   "outputs": [],
   "source": [
    "data = data_x.merge(title, how = 'left', on = 'doc_id')\n",
    "data = data.replace(np.nan, 'noinformation')"
   ]
  },
  {
   "cell_type": "code",
   "execution_count": null,
   "metadata": {},
   "outputs": [],
   "source": []
  },
  {
   "cell_type": "code",
   "execution_count": 8,
   "metadata": {},
   "outputs": [],
   "source": [
    "title = pd.read_csv('nem_title.csv')"
   ]
  },
  {
   "cell_type": "markdown",
   "metadata": {},
   "source": [
    "# Statistic "
   ]
  },
  {
   "cell_type": "markdown",
   "metadata": {},
   "source": [
    "## count of numbers"
   ]
  },
  {
   "cell_type": "code",
   "execution_count": 39,
   "metadata": {},
   "outputs": [
    {
     "data": {
      "text/plain": [
       "array(['0', '1', '2', '3', '4', '5', '6', '7', '8', '9'], dtype='<U21')"
      ]
     },
     "execution_count": 39,
     "metadata": {},
     "output_type": "execute_result"
    }
   ],
   "source": [
    "np.arange(10).astype(str)"
   ]
  },
  {
   "cell_type": "code",
   "execution_count": 12,
   "metadata": {},
   "outputs": [],
   "source": [
    "numbers = []\n",
    "num = np.arange(10).astype(str)\n",
    "for i in data.title:\n",
    "    numbers.append(sum(letter in num for letter in i))"
   ]
  },
  {
   "cell_type": "code",
   "execution_count": 13,
   "metadata": {},
   "outputs": [],
   "source": [
    "data['numbers'] = numbers"
   ]
  },
  {
   "cell_type": "markdown",
   "metadata": {},
   "source": [
    "## count of vowel"
   ]
  },
  {
   "cell_type": "code",
   "execution_count": 14,
   "metadata": {},
   "outputs": [],
   "source": [
    "vowels = []\n",
    "vowel = ['а', 'о', 'и', 'е', 'ё', 'э', 'ы', 'у', 'ю', 'я']\n",
    "for i in data.title:\n",
    "    vowels.append(sum(letter in vowel for letter in i))\n",
    "data['vowels'] = vowels"
   ]
  },
  {
   "cell_type": "markdown",
   "metadata": {},
   "source": [
    "## count of consonant"
   ]
  },
  {
   "cell_type": "code",
   "execution_count": 15,
   "metadata": {},
   "outputs": [],
   "source": [
    "consonants = []\n",
    "consonant = ['б', 'в', 'г', 'д', 'ж', 'з', 'й', 'к', 'л', 'м', 'н', 'п', 'р','с', 'т', 'ф', 'х', 'ц', 'ч', 'ш', 'щ']\n",
    "for i in data.title:\n",
    "    consonants.append(sum(letter in consonant for letter in i))\n",
    "data['consonants'] = consonants"
   ]
  },
  {
   "cell_type": "code",
   "execution_count": 49,
   "metadata": {},
   "outputs": [],
   "source": [
    "data.to_csv('data_statistic.csv', index = False)"
   ]
  },
  {
   "cell_type": "markdown",
   "metadata": {},
   "source": [
    "# Make TfIdf"
   ]
  },
  {
   "cell_type": "code",
   "execution_count": 8,
   "metadata": {},
   "outputs": [
    {
     "name": "stderr",
     "output_type": "stream",
     "text": [
      "/home/kirill/playground/env/lib/python3.5/site-packages/sklearn/feature_extraction/text.py:1547: UserWarning: Only (<class 'numpy.float64'>, <class 'numpy.float32'>, <class 'numpy.float16'>) 'dtype' should be used. float32 'dtype' will be converted to np.float64.\n",
      "  UserWarning)\n"
     ]
    }
   ],
   "source": [
    "\n",
    "vectorizer = TfidfVectorizer(max_features=2**10,\n",
    "                             dtype = 'float32',\n",
    "                        use_idf=True,\n",
    "                        ngram_range=(2,2), # considering only 1-grams\n",
    ") \n",
    "\n",
    "\n",
    "tf_idf_text = vectorizer.fit_transform(data.information)"
   ]
  },
  {
   "cell_type": "code",
   "execution_count": 87,
   "metadata": {},
   "outputs": [
    {
     "data": {
      "text/html": [
       "<div>\n",
       "<style scoped>\n",
       "    .dataframe tbody tr th:only-of-type {\n",
       "        vertical-align: middle;\n",
       "    }\n",
       "\n",
       "    .dataframe tbody tr th {\n",
       "        vertical-align: top;\n",
       "    }\n",
       "\n",
       "    .dataframe thead th {\n",
       "        text-align: right;\n",
       "    }\n",
       "</style>\n",
       "<table border=\"1\" class=\"dataframe\">\n",
       "  <thead>\n",
       "    <tr style=\"text-align: right;\">\n",
       "      <th></th>\n",
       "      <th>автоновость авто</th>\n",
       "      <th>авторский право</th>\n",
       "      <th>администрация город</th>\n",
       "      <th>адрес телефон</th>\n",
       "      <th>адрес час</th>\n",
       "      <th>аквариум зеленеть</th>\n",
       "      <th>аккаунт инстаграм</th>\n",
       "      <th>актер роль</th>\n",
       "      <th>активный отдых</th>\n",
       "      <th>актриса кино</th>\n",
       "      <th>...</th>\n",
       "      <th>cos_14</th>\n",
       "      <th>cos_15</th>\n",
       "      <th>cos_16</th>\n",
       "      <th>cos_17</th>\n",
       "      <th>cos_18</th>\n",
       "      <th>cos_19</th>\n",
       "      <th>cos_20</th>\n",
       "      <th>cos_21</th>\n",
       "      <th>cos_22</th>\n",
       "      <th>cos_23</th>\n",
       "    </tr>\n",
       "  </thead>\n",
       "  <tbody>\n",
       "    <tr>\n",
       "      <th>0</th>\n",
       "      <td>0.0</td>\n",
       "      <td>0.0</td>\n",
       "      <td>0.0</td>\n",
       "      <td>0.0</td>\n",
       "      <td>0.0</td>\n",
       "      <td>0.0</td>\n",
       "      <td>0.0</td>\n",
       "      <td>0.0</td>\n",
       "      <td>0.0</td>\n",
       "      <td>0.0</td>\n",
       "      <td>...</td>\n",
       "      <td>3.162051e-07</td>\n",
       "      <td>4.921769e-07</td>\n",
       "      <td>5.729361e-07</td>\n",
       "      <td>4.513265e-07</td>\n",
       "      <td>5.256401e-07</td>\n",
       "      <td>6.285633e-07</td>\n",
       "      <td>6.565289e-07</td>\n",
       "      <td>8.339600e-07</td>\n",
       "      <td>9.408054e-07</td>\n",
       "      <td>0.000001</td>\n",
       "    </tr>\n",
       "  </tbody>\n",
       "</table>\n",
       "<p>1 rows × 1052 columns</p>\n",
       "</div>"
      ],
      "text/plain": [
       "   автоновость авто  авторский право  администрация город  адрес телефон  \\\n",
       "0               0.0              0.0                  0.0            0.0   \n",
       "\n",
       "   адрес час  аквариум зеленеть  аккаунт инстаграм  актер роль  \\\n",
       "0        0.0                0.0                0.0         0.0   \n",
       "\n",
       "   активный отдых  актриса кино    ...           cos_14        cos_15  \\\n",
       "0             0.0           0.0    ...     3.162051e-07  4.921769e-07   \n",
       "\n",
       "         cos_16        cos_17        cos_18        cos_19        cos_20  \\\n",
       "0  5.729361e-07  4.513265e-07  5.256401e-07  6.285633e-07  6.565289e-07   \n",
       "\n",
       "         cos_21        cos_22    cos_23  \n",
       "0  8.339600e-07  9.408054e-07  0.000001  \n",
       "\n",
       "[1 rows x 1052 columns]"
      ]
     },
     "execution_count": 87,
     "metadata": {},
     "output_type": "execute_result"
    }
   ],
   "source": [
    "data_tf_idf[:1]"
   ]
  },
  {
   "cell_type": "code",
   "execution_count": null,
   "metadata": {},
   "outputs": [],
   "source": []
  },
  {
   "cell_type": "code",
   "execution_count": 13,
   "metadata": {},
   "outputs": [],
   "source": [
    "data_tf_idf = pd.DataFrame(tf_idf_text.toarray(), columns = vectorizer.get_feature_names())\n",
    "data_tf_idf['doc_id'] = data.doc_id\n",
    "data_tf_idf['pair_id'] = data.pair_id\n",
    "data_tf_idf['group_id'] = data.group_id\n",
    "data_tf_idf['is_train'] = data.is_train"
   ]
  },
  {
   "cell_type": "code",
   "execution_count": null,
   "metadata": {},
   "outputs": [],
   "source": []
  },
  {
   "cell_type": "code",
   "execution_count": 14,
   "metadata": {},
   "outputs": [
    {
     "data": {
      "text/html": [
       "<div>\n",
       "<style scoped>\n",
       "    .dataframe tbody tr th:only-of-type {\n",
       "        vertical-align: middle;\n",
       "    }\n",
       "\n",
       "    .dataframe tbody tr th {\n",
       "        vertical-align: top;\n",
       "    }\n",
       "\n",
       "    .dataframe thead th {\n",
       "        text-align: right;\n",
       "    }\n",
       "</style>\n",
       "<table border=\"1\" class=\"dataframe\">\n",
       "  <thead>\n",
       "    <tr style=\"text-align: right;\">\n",
       "      <th></th>\n",
       "      <th>автоновость авто</th>\n",
       "      <th>авторский право</th>\n",
       "      <th>администрация город</th>\n",
       "      <th>адрес телефон</th>\n",
       "      <th>адрес час</th>\n",
       "      <th>аквариум зеленеть</th>\n",
       "      <th>аккаунт инстаграм</th>\n",
       "      <th>актер роль</th>\n",
       "      <th>активный отдых</th>\n",
       "      <th>актриса кино</th>\n",
       "      <th>...</th>\n",
       "      <th>юридический услуга</th>\n",
       "      <th>юрий хованский</th>\n",
       "      <th>язык класс</th>\n",
       "      <th>языковой панель</th>\n",
       "      <th>январь год</th>\n",
       "      <th>ярославский область</th>\n",
       "      <th>doc_id</th>\n",
       "      <th>pair_id</th>\n",
       "      <th>group_id</th>\n",
       "      <th>is_train</th>\n",
       "    </tr>\n",
       "  </thead>\n",
       "  <tbody>\n",
       "    <tr>\n",
       "      <th>0</th>\n",
       "      <td>0.0</td>\n",
       "      <td>0.0</td>\n",
       "      <td>0.0</td>\n",
       "      <td>0.0</td>\n",
       "      <td>0.0</td>\n",
       "      <td>0.0</td>\n",
       "      <td>0.0</td>\n",
       "      <td>0.0</td>\n",
       "      <td>0.0</td>\n",
       "      <td>0.0</td>\n",
       "      <td>...</td>\n",
       "      <td>0.0</td>\n",
       "      <td>0.0</td>\n",
       "      <td>0.0</td>\n",
       "      <td>0.0</td>\n",
       "      <td>0.0</td>\n",
       "      <td>0.0</td>\n",
       "      <td>15731</td>\n",
       "      <td>1</td>\n",
       "      <td>1</td>\n",
       "      <td>True</td>\n",
       "    </tr>\n",
       "    <tr>\n",
       "      <th>1</th>\n",
       "      <td>0.0</td>\n",
       "      <td>0.0</td>\n",
       "      <td>0.0</td>\n",
       "      <td>0.0</td>\n",
       "      <td>0.0</td>\n",
       "      <td>0.0</td>\n",
       "      <td>0.0</td>\n",
       "      <td>0.0</td>\n",
       "      <td>0.0</td>\n",
       "      <td>0.0</td>\n",
       "      <td>...</td>\n",
       "      <td>0.0</td>\n",
       "      <td>0.0</td>\n",
       "      <td>0.0</td>\n",
       "      <td>0.0</td>\n",
       "      <td>0.0</td>\n",
       "      <td>0.0</td>\n",
       "      <td>14829</td>\n",
       "      <td>2</td>\n",
       "      <td>1</td>\n",
       "      <td>True</td>\n",
       "    </tr>\n",
       "  </tbody>\n",
       "</table>\n",
       "<p>2 rows × 1028 columns</p>\n",
       "</div>"
      ],
      "text/plain": [
       "   автоновость авто  авторский право  администрация город  адрес телефон  \\\n",
       "0               0.0              0.0                  0.0            0.0   \n",
       "1               0.0              0.0                  0.0            0.0   \n",
       "\n",
       "   адрес час  аквариум зеленеть  аккаунт инстаграм  актер роль  \\\n",
       "0        0.0                0.0                0.0         0.0   \n",
       "1        0.0                0.0                0.0         0.0   \n",
       "\n",
       "   активный отдых  актриса кино    ...     юридический услуга  юрий хованский  \\\n",
       "0             0.0           0.0    ...                    0.0             0.0   \n",
       "1             0.0           0.0    ...                    0.0             0.0   \n",
       "\n",
       "   язык класс  языковой панель  январь год  ярославский область  doc_id  \\\n",
       "0         0.0              0.0         0.0                  0.0   15731   \n",
       "1         0.0              0.0         0.0                  0.0   14829   \n",
       "\n",
       "   pair_id  group_id  is_train  \n",
       "0        1         1      True  \n",
       "1        2         1      True  \n",
       "\n",
       "[2 rows x 1028 columns]"
      ]
     },
     "execution_count": 14,
     "metadata": {},
     "output_type": "execute_result"
    }
   ],
   "source": [
    "data_tf_idf[:2]"
   ]
  },
  {
   "cell_type": "markdown",
   "metadata": {},
   "source": [
    "### SVD "
   ]
  },
  {
   "cell_type": "code",
   "execution_count": 38,
   "metadata": {},
   "outputs": [],
   "source": [
    "from sklearn.decomposition import TruncatedSVD\n",
    "tfidf = TfidfVectorizer(min_df=5, max_features=maxFeats*5, ngram_range=(2,2),\n",
    "                        strip_accents='unicode',\n",
    "                        lowercase =True, analyzer='word', token_pattern=r'\\w+',\n",
    "                        use_idf=True, smooth_idf=True, sublinear_tf=True, \n",
    "                        stop_words = 'english')"
   ]
  },
  {
   "cell_type": "code",
   "execution_count": 40,
   "metadata": {},
   "outputs": [],
   "source": [
    "\n",
    "svdT = TruncatedSVD(n_components=800)\n",
    "svdTFit = svdT.fit_transform(tfidf.fit_transform(data[data.is_train].information))"
   ]
  },
  {
   "cell_type": "code",
   "execution_count": 31,
   "metadata": {},
   "outputs": [],
   "source": []
  },
  {
   "cell_type": "markdown",
   "metadata": {},
   "source": [
    "## Build matrix of distance"
   ]
  },
  {
   "cell_type": "code",
   "execution_count": 15,
   "metadata": {},
   "outputs": [],
   "source": [
    "data_frame = data['pair_id'].copy().reset_index()"
   ]
  },
  {
   "cell_type": "code",
   "execution_count": 19,
   "metadata": {},
   "outputs": [],
   "source": [
    "from sklearn.metrics.pairwise import cosine_similarity as cos"
   ]
  },
  {
   "cell_type": "code",
   "execution_count": 17,
   "metadata": {},
   "outputs": [],
   "source": [
    "col = ['doc_id', 'pair_id', 'group_id', 'is_train']"
   ]
  },
  {
   "cell_type": "code",
   "execution_count": null,
   "metadata": {},
   "outputs": [],
   "source": [
    "cos_matrix = cos(data_tf_idf.drop(col, 1))"
   ]
  },
  {
   "cell_type": "code",
   "execution_count": 22,
   "metadata": {},
   "outputs": [],
   "source": [
    "svdT = TruncatedSVD(n_components=800)\n",
    "svdTFit = svdT.fit_transform(cos_matrix)"
   ]
  },
  {
   "cell_type": "code",
   "execution_count": 24,
   "metadata": {},
   "outputs": [],
   "source": [
    "svd = pd.DataFrame(svdTFit)\n",
    "svd.to_csv('svdTFit.csv', index = False)"
   ]
  },
  {
   "cell_type": "code",
   "execution_count": null,
   "metadata": {},
   "outputs": [],
   "source": [
    "svdTfit['doc_id']"
   ]
  },
  {
   "cell_type": "code",
   "execution_count": 14,
   "metadata": {},
   "outputs": [],
   "source": [
    "matrix = pd.DataFrame(cos_matrix)"
   ]
  },
  {
   "cell_type": "code",
   "execution_count": 15,
   "metadata": {},
   "outputs": [],
   "source": [
    "matrix['is_train'] = data['is_train']"
   ]
  },
  {
   "cell_type": "code",
   "execution_count": null,
   "metadata": {},
   "outputs": [],
   "source": [
    "new_train = matrix[matrix.is_train].drop('is_train', 1)\n",
    "new_test = matrix[~matrix.is_train].drop('is_train', 1)"
   ]
  },
  {
   "cell_type": "code",
   "execution_count": 16,
   "metadata": {},
   "outputs": [],
   "source": [
    "data_new = pd.read_csv('data_statistic.csv')"
   ]
  },
  {
   "cell_type": "code",
   "execution_count": 18,
   "metadata": {},
   "outputs": [],
   "source": [
    "matrix['numbers'] = data_new['numbers']\n",
    "matrix['vowels'] = data_new['vowels']\n",
    "matrix['consonants'] = data_new['consonants']"
   ]
  },
  {
   "cell_type": "code",
   "execution_count": null,
   "metadata": {},
   "outputs": [],
   "source": [
    "data1 = pd.read_csv('new_data')"
   ]
  },
  {
   "cell_type": "code",
   "execution_count": 24,
   "metadata": {},
   "outputs": [],
   "source": [
    "new_train = pd.read_csv('new_train.csv')\n",
    "new_test = pd.read_csv('new_test.csv')\n",
    "\n",
    "data1 = pd.concat(( new_train.drop('target', 1), new_test))"
   ]
  },
  {
   "cell_type": "code",
   "execution_count": 36,
   "metadata": {},
   "outputs": [],
   "source": [
    "matrix['doc_id'] = title['doc_id']"
   ]
  },
  {
   "cell_type": "code",
   "execution_count": null,
   "metadata": {},
   "outputs": [],
   "source": [
    "data1 = data1.merge(matrix, how = 'left', on = 'doc_id')"
   ]
  },
  {
   "cell_type": "code",
   "execution_count": 1,
   "metadata": {},
   "outputs": [],
   "source": [
    "# matrix['mean_true_hash'] = data1.mean_true_hash\n",
    "# matrix['cos_mean'] = data1.cos_mean\n"
   ]
  },
  {
   "cell_type": "code",
   "execution_count": 91,
   "metadata": {},
   "outputs": [],
   "source": [
    "new_train['numbers'] = data['numbers']\n",
    "new_train['vowels'] = data['vowels']"
   ]
  },
  {
   "cell_type": "code",
   "execution_count": null,
   "metadata": {},
   "outputs": [],
   "source": [
    "new_test['numbers'] = data['numbers']\n",
    "new_test['vowels'] = data['vowels']"
   ]
  },
  {
   "cell_type": "code",
   "execution_count": null,
   "metadata": {},
   "outputs": [],
   "source": [
    "matrix.to_csv('cos_matrix.csv', index = False)"
   ]
  },
  {
   "cell_type": "code",
   "execution_count": null,
   "metadata": {},
   "outputs": [],
   "source": []
  },
  {
   "cell_type": "markdown",
   "metadata": {},
   "source": [
    "## Make Hash"
   ]
  },
  {
   "cell_type": "code",
   "execution_count": 6,
   "metadata": {},
   "outputs": [],
   "source": [
    "from sklearn.feature_extraction.text import HashingVectorizer\n",
    "\n",
    "\n",
    "vectorizer = HashingVectorizer(n_features=2**10, dtype = 'float32' ,ngram_range=(1, 3) )\n",
    "data_all = data_all.replace(np.nan, 'noinformation')\n",
    "X_text = vectorizer.fit_transform(data.text )\n",
    "# X = vectorizer.fit_transform(data.information )"
   ]
  },
  {
   "cell_type": "code",
   "execution_count": null,
   "metadata": {},
   "outputs": [],
   "source": [
    "from sklearn.feature_extraction.text import "
   ]
  },
  {
   "cell_type": "code",
   "execution_count": 27,
   "metadata": {},
   "outputs": [
    {
     "data": {
      "text/plain": [
       "28026"
      ]
     },
     "execution_count": 27,
     "metadata": {},
     "output_type": "execute_result"
    }
   ],
   "source": [
    "len( data_x.set_index('doc_id').iloc[data_x.doc_id.unique()].group_id)"
   ]
  },
  {
   "cell_type": "code",
   "execution_count": 25,
   "metadata": {},
   "outputs": [
    {
     "data": {
      "text/plain": [
       "28026"
      ]
     },
     "execution_count": 25,
     "metadata": {},
     "output_type": "execute_result"
    }
   ],
   "source": [
    "len(data_x.set_index('doc_id').iloc[data_x.doc_id.unique()].group_id)"
   ]
  },
  {
   "cell_type": "code",
   "execution_count": 41,
   "metadata": {},
   "outputs": [
    {
     "data": {
      "text/plain": [
       "0    15731\n",
       "1    14829\n",
       "2    15764\n",
       "3    17669\n",
       "4    14852\n",
       "Name: doc_id, dtype: int64"
      ]
     },
     "execution_count": 41,
     "metadata": {},
     "output_type": "execute_result"
    }
   ],
   "source": [
    "data_x.doc_id"
   ]
  },
  {
   "cell_type": "code",
   "execution_count": 33,
   "metadata": {},
   "outputs": [],
   "source": [
    "data_text.drop(['group_id', 'is_train'], 1, inplace = True)"
   ]
  },
  {
   "cell_type": "code",
   "execution_count": 26,
   "metadata": {},
   "outputs": [
    {
     "data": {
      "text/plain": [
       "(28317, 4)"
      ]
     },
     "execution_count": 26,
     "metadata": {},
     "output_type": "execute_result"
    }
   ],
   "source": [
    "data_x.shape"
   ]
  },
  {
   "cell_type": "code",
   "execution_count": 25,
   "metadata": {},
   "outputs": [
    {
     "data": {
      "text/plain": [
       "(28317, 16384)"
      ]
     },
     "execution_count": 25,
     "metadata": {},
     "output_type": "execute_result"
    }
   ],
   "source": [
    "data_tf_idf.shape"
   ]
  },
  {
   "cell_type": "code",
   "execution_count": 27,
   "metadata": {},
   "outputs": [],
   "source": [
    "# # data_tf_idf = pd.DataFrame(tf_idf_text.toarray())\n",
    "# # data_text['doc_id'] = data_x.doc_id.unique()\n",
    "# # data_text['pair_id'] = data_x.pair_id.unique()\n",
    "# data_text['group_id'] = data_x.set_index('doc_id').iloc[data_x.doc_id.unique()].sort_values('pair_id').group_id.values\n",
    "# data_text['is_train'] = data_x.set_index('doc_id').iloc[data_x.doc_id.unique()].sort_values('pair_id').is_train.values\n",
    "\n",
    "# data_text['target'] = train"
   ]
  },
  {
   "cell_type": "code",
   "execution_count": 8,
   "metadata": {},
   "outputs": [],
   "source": [
    "data_text.to_csv('text_hash.csv', index = False)"
   ]
  },
  {
   "cell_type": "code",
   "execution_count": 4,
   "metadata": {},
   "outputs": [],
   "source": [
    "data_text = pd.read_csv('text_hash.csv', dtype = 'float32')"
   ]
  },
  {
   "cell_type": "code",
   "execution_count": null,
   "metadata": {},
   "outputs": [],
   "source": []
  },
  {
   "cell_type": "code",
   "execution_count": 46,
   "metadata": {},
   "outputs": [
    {
     "data": {
      "text/html": [
       "<div>\n",
       "<style scoped>\n",
       "    .dataframe tbody tr th:only-of-type {\n",
       "        vertical-align: middle;\n",
       "    }\n",
       "\n",
       "    .dataframe tbody tr th {\n",
       "        vertical-align: top;\n",
       "    }\n",
       "\n",
       "    .dataframe thead th {\n",
       "        text-align: right;\n",
       "    }\n",
       "</style>\n",
       "<table border=\"1\" class=\"dataframe\">\n",
       "  <thead>\n",
       "    <tr style=\"text-align: right;\">\n",
       "      <th></th>\n",
       "      <th>0</th>\n",
       "      <th>1</th>\n",
       "      <th>2</th>\n",
       "      <th>3</th>\n",
       "      <th>4</th>\n",
       "      <th>5</th>\n",
       "      <th>6</th>\n",
       "      <th>7</th>\n",
       "      <th>8</th>\n",
       "      <th>9</th>\n",
       "      <th>...</th>\n",
       "      <th>16378</th>\n",
       "      <th>16379</th>\n",
       "      <th>16380</th>\n",
       "      <th>16381</th>\n",
       "      <th>16382</th>\n",
       "      <th>16383</th>\n",
       "      <th>doc_id</th>\n",
       "      <th>pair_id</th>\n",
       "      <th>group_id</th>\n",
       "      <th>is_train</th>\n",
       "    </tr>\n",
       "  </thead>\n",
       "  <tbody>\n",
       "    <tr>\n",
       "      <th>0</th>\n",
       "      <td>0.000000</td>\n",
       "      <td>0.000000</td>\n",
       "      <td>0.000000</td>\n",
       "      <td>-0.004800</td>\n",
       "      <td>0.000000</td>\n",
       "      <td>0.004800</td>\n",
       "      <td>0.000000</td>\n",
       "      <td>0.000000</td>\n",
       "      <td>0.000000</td>\n",
       "      <td>-0.048002</td>\n",
       "      <td>...</td>\n",
       "      <td>0.000000</td>\n",
       "      <td>0.000000</td>\n",
       "      <td>0.000000</td>\n",
       "      <td>0.004800</td>\n",
       "      <td>0.000000</td>\n",
       "      <td>0.000000</td>\n",
       "      <td>15731</td>\n",
       "      <td>1.0</td>\n",
       "      <td>1</td>\n",
       "      <td>True</td>\n",
       "    </tr>\n",
       "    <tr>\n",
       "      <th>1</th>\n",
       "      <td>0.000000</td>\n",
       "      <td>0.000000</td>\n",
       "      <td>0.000000</td>\n",
       "      <td>0.000000</td>\n",
       "      <td>0.000000</td>\n",
       "      <td>0.000000</td>\n",
       "      <td>0.000000</td>\n",
       "      <td>0.000000</td>\n",
       "      <td>0.000000</td>\n",
       "      <td>0.000000</td>\n",
       "      <td>...</td>\n",
       "      <td>0.000000</td>\n",
       "      <td>0.000000</td>\n",
       "      <td>0.000000</td>\n",
       "      <td>0.000000</td>\n",
       "      <td>0.000000</td>\n",
       "      <td>0.000000</td>\n",
       "      <td>14829</td>\n",
       "      <td>2.0</td>\n",
       "      <td>1</td>\n",
       "      <td>True</td>\n",
       "    </tr>\n",
       "    <tr>\n",
       "      <th>2</th>\n",
       "      <td>0.000000</td>\n",
       "      <td>0.002271</td>\n",
       "      <td>0.006814</td>\n",
       "      <td>-0.002271</td>\n",
       "      <td>-0.001136</td>\n",
       "      <td>0.000000</td>\n",
       "      <td>-0.001136</td>\n",
       "      <td>0.010220</td>\n",
       "      <td>0.000000</td>\n",
       "      <td>-0.005678</td>\n",
       "      <td>...</td>\n",
       "      <td>-0.002271</td>\n",
       "      <td>0.000000</td>\n",
       "      <td>0.007949</td>\n",
       "      <td>-0.003407</td>\n",
       "      <td>-0.003407</td>\n",
       "      <td>-0.011356</td>\n",
       "      <td>15764</td>\n",
       "      <td>3.0</td>\n",
       "      <td>1</td>\n",
       "      <td>True</td>\n",
       "    </tr>\n",
       "    <tr>\n",
       "      <th>3</th>\n",
       "      <td>-0.002012</td>\n",
       "      <td>-0.000671</td>\n",
       "      <td>0.002012</td>\n",
       "      <td>0.000671</td>\n",
       "      <td>-0.001341</td>\n",
       "      <td>-0.002682</td>\n",
       "      <td>0.000671</td>\n",
       "      <td>0.004694</td>\n",
       "      <td>0.000671</td>\n",
       "      <td>0.000000</td>\n",
       "      <td>...</td>\n",
       "      <td>0.001341</td>\n",
       "      <td>0.001341</td>\n",
       "      <td>0.001341</td>\n",
       "      <td>-0.000671</td>\n",
       "      <td>0.000671</td>\n",
       "      <td>0.002682</td>\n",
       "      <td>17669</td>\n",
       "      <td>4.0</td>\n",
       "      <td>1</td>\n",
       "      <td>True</td>\n",
       "    </tr>\n",
       "    <tr>\n",
       "      <th>4</th>\n",
       "      <td>0.000000</td>\n",
       "      <td>-0.004375</td>\n",
       "      <td>0.004375</td>\n",
       "      <td>0.000000</td>\n",
       "      <td>0.000000</td>\n",
       "      <td>0.000000</td>\n",
       "      <td>-0.004375</td>\n",
       "      <td>0.000000</td>\n",
       "      <td>0.000000</td>\n",
       "      <td>0.000000</td>\n",
       "      <td>...</td>\n",
       "      <td>0.000000</td>\n",
       "      <td>0.000000</td>\n",
       "      <td>0.000000</td>\n",
       "      <td>0.000000</td>\n",
       "      <td>-0.008751</td>\n",
       "      <td>0.000000</td>\n",
       "      <td>14852</td>\n",
       "      <td>5.0</td>\n",
       "      <td>1</td>\n",
       "      <td>True</td>\n",
       "    </tr>\n",
       "    <tr>\n",
       "      <th>5</th>\n",
       "      <td>0.000000</td>\n",
       "      <td>0.000000</td>\n",
       "      <td>0.000000</td>\n",
       "      <td>0.000000</td>\n",
       "      <td>0.000000</td>\n",
       "      <td>0.000000</td>\n",
       "      <td>0.000000</td>\n",
       "      <td>0.029142</td>\n",
       "      <td>0.000000</td>\n",
       "      <td>0.000000</td>\n",
       "      <td>...</td>\n",
       "      <td>0.000000</td>\n",
       "      <td>0.000000</td>\n",
       "      <td>0.000000</td>\n",
       "      <td>0.000000</td>\n",
       "      <td>0.000000</td>\n",
       "      <td>0.000000</td>\n",
       "      <td>15458</td>\n",
       "      <td>6.0</td>\n",
       "      <td>1</td>\n",
       "      <td>True</td>\n",
       "    </tr>\n",
       "    <tr>\n",
       "      <th>6</th>\n",
       "      <td>0.005060</td>\n",
       "      <td>0.000000</td>\n",
       "      <td>-0.005060</td>\n",
       "      <td>0.010121</td>\n",
       "      <td>0.000000</td>\n",
       "      <td>-0.005060</td>\n",
       "      <td>0.000000</td>\n",
       "      <td>0.040483</td>\n",
       "      <td>0.000000</td>\n",
       "      <td>-0.010121</td>\n",
       "      <td>...</td>\n",
       "      <td>0.000000</td>\n",
       "      <td>0.000000</td>\n",
       "      <td>-0.005060</td>\n",
       "      <td>0.000000</td>\n",
       "      <td>0.005060</td>\n",
       "      <td>-0.005060</td>\n",
       "      <td>14899</td>\n",
       "      <td>7.0</td>\n",
       "      <td>1</td>\n",
       "      <td>True</td>\n",
       "    </tr>\n",
       "    <tr>\n",
       "      <th>7</th>\n",
       "      <td>0.000000</td>\n",
       "      <td>0.003983</td>\n",
       "      <td>0.000000</td>\n",
       "      <td>0.000000</td>\n",
       "      <td>0.000000</td>\n",
       "      <td>-0.019915</td>\n",
       "      <td>0.000000</td>\n",
       "      <td>0.003983</td>\n",
       "      <td>0.000000</td>\n",
       "      <td>0.003983</td>\n",
       "      <td>...</td>\n",
       "      <td>0.000000</td>\n",
       "      <td>0.000000</td>\n",
       "      <td>-0.003983</td>\n",
       "      <td>0.000000</td>\n",
       "      <td>0.007966</td>\n",
       "      <td>0.003983</td>\n",
       "      <td>16879</td>\n",
       "      <td>8.0</td>\n",
       "      <td>1</td>\n",
       "      <td>True</td>\n",
       "    </tr>\n",
       "    <tr>\n",
       "      <th>8</th>\n",
       "      <td>0.000000</td>\n",
       "      <td>0.000000</td>\n",
       "      <td>0.000000</td>\n",
       "      <td>0.000000</td>\n",
       "      <td>0.000000</td>\n",
       "      <td>0.000000</td>\n",
       "      <td>0.000000</td>\n",
       "      <td>0.000000</td>\n",
       "      <td>0.000000</td>\n",
       "      <td>-0.016725</td>\n",
       "      <td>...</td>\n",
       "      <td>0.000000</td>\n",
       "      <td>0.000000</td>\n",
       "      <td>0.000000</td>\n",
       "      <td>0.000000</td>\n",
       "      <td>0.000000</td>\n",
       "      <td>0.000000</td>\n",
       "      <td>16310</td>\n",
       "      <td>9.0</td>\n",
       "      <td>1</td>\n",
       "      <td>True</td>\n",
       "    </tr>\n",
       "    <tr>\n",
       "      <th>9</th>\n",
       "      <td>0.000000</td>\n",
       "      <td>0.000000</td>\n",
       "      <td>0.000000</td>\n",
       "      <td>0.000000</td>\n",
       "      <td>0.000000</td>\n",
       "      <td>0.000000</td>\n",
       "      <td>0.000000</td>\n",
       "      <td>0.008515</td>\n",
       "      <td>0.000000</td>\n",
       "      <td>-0.008515</td>\n",
       "      <td>...</td>\n",
       "      <td>0.000000</td>\n",
       "      <td>0.008515</td>\n",
       "      <td>0.000000</td>\n",
       "      <td>0.000000</td>\n",
       "      <td>0.000000</td>\n",
       "      <td>0.000000</td>\n",
       "      <td>15440</td>\n",
       "      <td>10.0</td>\n",
       "      <td>1</td>\n",
       "      <td>True</td>\n",
       "    </tr>\n",
       "  </tbody>\n",
       "</table>\n",
       "<p>10 rows × 16388 columns</p>\n",
       "</div>"
      ],
      "text/plain": [
       "          0         1         2         3         4         5         6  \\\n",
       "0  0.000000  0.000000  0.000000 -0.004800  0.000000  0.004800  0.000000   \n",
       "1  0.000000  0.000000  0.000000  0.000000  0.000000  0.000000  0.000000   \n",
       "2  0.000000  0.002271  0.006814 -0.002271 -0.001136  0.000000 -0.001136   \n",
       "3 -0.002012 -0.000671  0.002012  0.000671 -0.001341 -0.002682  0.000671   \n",
       "4  0.000000 -0.004375  0.004375  0.000000  0.000000  0.000000 -0.004375   \n",
       "5  0.000000  0.000000  0.000000  0.000000  0.000000  0.000000  0.000000   \n",
       "6  0.005060  0.000000 -0.005060  0.010121  0.000000 -0.005060  0.000000   \n",
       "7  0.000000  0.003983  0.000000  0.000000  0.000000 -0.019915  0.000000   \n",
       "8  0.000000  0.000000  0.000000  0.000000  0.000000  0.000000  0.000000   \n",
       "9  0.000000  0.000000  0.000000  0.000000  0.000000  0.000000  0.000000   \n",
       "\n",
       "          7         8         9    ...        16378     16379     16380  \\\n",
       "0  0.000000  0.000000 -0.048002    ...     0.000000  0.000000  0.000000   \n",
       "1  0.000000  0.000000  0.000000    ...     0.000000  0.000000  0.000000   \n",
       "2  0.010220  0.000000 -0.005678    ...    -0.002271  0.000000  0.007949   \n",
       "3  0.004694  0.000671  0.000000    ...     0.001341  0.001341  0.001341   \n",
       "4  0.000000  0.000000  0.000000    ...     0.000000  0.000000  0.000000   \n",
       "5  0.029142  0.000000  0.000000    ...     0.000000  0.000000  0.000000   \n",
       "6  0.040483  0.000000 -0.010121    ...     0.000000  0.000000 -0.005060   \n",
       "7  0.003983  0.000000  0.003983    ...     0.000000  0.000000 -0.003983   \n",
       "8  0.000000  0.000000 -0.016725    ...     0.000000  0.000000  0.000000   \n",
       "9  0.008515  0.000000 -0.008515    ...     0.000000  0.008515  0.000000   \n",
       "\n",
       "      16381     16382     16383  doc_id  pair_id  group_id  is_train  \n",
       "0  0.004800  0.000000  0.000000   15731      1.0         1      True  \n",
       "1  0.000000  0.000000  0.000000   14829      2.0         1      True  \n",
       "2 -0.003407 -0.003407 -0.011356   15764      3.0         1      True  \n",
       "3 -0.000671  0.000671  0.002682   17669      4.0         1      True  \n",
       "4  0.000000 -0.008751  0.000000   14852      5.0         1      True  \n",
       "5  0.000000  0.000000  0.000000   15458      6.0         1      True  \n",
       "6  0.000000  0.005060 -0.005060   14899      7.0         1      True  \n",
       "7  0.000000  0.007966  0.003983   16879      8.0         1      True  \n",
       "8  0.000000  0.000000  0.000000   16310      9.0         1      True  \n",
       "9  0.000000  0.000000  0.000000   15440     10.0         1      True  \n",
       "\n",
       "[10 rows x 16388 columns]"
      ]
     },
     "execution_count": 46,
     "metadata": {},
     "output_type": "execute_result"
    }
   ],
   "source": [
    "data_text[:10]\n"
   ]
  },
  {
   "cell_type": "markdown",
   "metadata": {},
   "source": [
    "## Make DataFrame"
   ]
  },
  {
   "cell_type": "code",
   "execution_count": 12,
   "metadata": {},
   "outputs": [],
   "source": [
    "# data_tfidf.shape\n",
    "data_hash = pd.DataFrame(X.toarray())\n",
    "# data_hash.to_csv('data_hash')"
   ]
  },
  {
   "cell_type": "code",
   "execution_count": 13,
   "metadata": {},
   "outputs": [],
   "source": [
    "data_hash['doc_id'] = data.doc_id\n",
    "data_hash['pair_id'] = data.pair_id\n",
    "data_hash['group_id'] = data.group_id\n",
    "data_hash['is_train'] = data.is_train\n"
   ]
  },
  {
   "cell_type": "markdown",
   "metadata": {},
   "source": [
    "### train and test"
   ]
  },
  {
   "cell_type": "code",
   "execution_count": 11,
   "metadata": {},
   "outputs": [],
   "source": [
    "data_text = data_text.replace(np.nan, 0) "
   ]
  },
  {
   "cell_type": "code",
   "execution_count": 49,
   "metadata": {},
   "outputs": [
    {
     "data": {
      "text/html": [
       "<div>\n",
       "<style scoped>\n",
       "    .dataframe tbody tr th:only-of-type {\n",
       "        vertical-align: middle;\n",
       "    }\n",
       "\n",
       "    .dataframe tbody tr th {\n",
       "        vertical-align: top;\n",
       "    }\n",
       "\n",
       "    .dataframe thead th {\n",
       "        text-align: right;\n",
       "    }\n",
       "</style>\n",
       "<table border=\"1\" class=\"dataframe\">\n",
       "  <thead>\n",
       "    <tr style=\"text-align: right;\">\n",
       "      <th></th>\n",
       "      <th>0</th>\n",
       "      <th>1</th>\n",
       "      <th>2</th>\n",
       "      <th>3</th>\n",
       "      <th>4</th>\n",
       "      <th>5</th>\n",
       "      <th>6</th>\n",
       "      <th>7</th>\n",
       "      <th>8</th>\n",
       "      <th>9</th>\n",
       "      <th>...</th>\n",
       "      <th>16379</th>\n",
       "      <th>16380</th>\n",
       "      <th>16381</th>\n",
       "      <th>16382</th>\n",
       "      <th>16383</th>\n",
       "      <th>doc_id</th>\n",
       "      <th>pair_id</th>\n",
       "      <th>group_id</th>\n",
       "      <th>is_train</th>\n",
       "      <th>target</th>\n",
       "    </tr>\n",
       "  </thead>\n",
       "  <tbody>\n",
       "    <tr>\n",
       "      <th>0</th>\n",
       "      <td>0.0</td>\n",
       "      <td>0.0</td>\n",
       "      <td>0.0</td>\n",
       "      <td>-0.0048</td>\n",
       "      <td>0.0</td>\n",
       "      <td>0.0048</td>\n",
       "      <td>0.0</td>\n",
       "      <td>0.0</td>\n",
       "      <td>0.0</td>\n",
       "      <td>-0.048002</td>\n",
       "      <td>...</td>\n",
       "      <td>0.0</td>\n",
       "      <td>0.0</td>\n",
       "      <td>0.0048</td>\n",
       "      <td>0.0</td>\n",
       "      <td>0.0</td>\n",
       "      <td>15731</td>\n",
       "      <td>1.0</td>\n",
       "      <td>1</td>\n",
       "      <td>True</td>\n",
       "      <td>0</td>\n",
       "    </tr>\n",
       "  </tbody>\n",
       "</table>\n",
       "<p>1 rows × 16389 columns</p>\n",
       "</div>"
      ],
      "text/plain": [
       "     0    1    2       3    4       5    6    7    8         9   ...    16379  \\\n",
       "0  0.0  0.0  0.0 -0.0048  0.0  0.0048  0.0  0.0  0.0 -0.048002   ...      0.0   \n",
       "\n",
       "   16380   16381  16382  16383  doc_id  pair_id  group_id  is_train  target  \n",
       "0    0.0  0.0048    0.0    0.0   15731      1.0         1      True       0  \n",
       "\n",
       "[1 rows x 16389 columns]"
      ]
     },
     "execution_count": 49,
     "metadata": {},
     "output_type": "execute_result"
    }
   ],
   "source": [
    "train_text.to_csv('train_text.csv', index = False)"
   ]
  },
  {
   "cell_type": "code",
   "execution_count": 54,
   "metadata": {},
   "outputs": [],
   "source": [
    "# train_text = data_text[data_text.is_train]\n",
    "# train_text['target'] = train.target\n",
    "\n",
    "test_text= data_text[~data_text.is_train]"
   ]
  },
  {
   "cell_type": "markdown",
   "metadata": {},
   "source": [
    "### Group by target"
   ]
  },
  {
   "cell_type": "code",
   "execution_count": null,
   "metadata": {},
   "outputs": [],
   "source": [
    "true_vector_mean = new_train.drop(['pair_id', 'is_train','group_id','doc_id'], 1).groupby('target').agg('mean')"
   ]
  },
  {
   "cell_type": "code",
   "execution_count": 52,
   "metadata": {},
   "outputs": [],
   "source": [
    "true_vector_mean_text = train_text.drop(['pair_id', 'is_train','group_id','doc_id'], 1).groupby('target').agg('mean')"
   ]
  },
  {
   "cell_type": "code",
   "execution_count": 53,
   "metadata": {},
   "outputs": [],
   "source": [
    "true_vector_mean_text.to_csv('text/true_vector_mean_text.csv', index = False)"
   ]
  },
  {
   "cell_type": "code",
   "execution_count": null,
   "metadata": {},
   "outputs": [],
   "source": [
    ".drop(['pair_id', 'is_train','group_id','doc_id'], 1).groupby('target').agg('mean')"
   ]
  },
  {
   "cell_type": "raw",
   "metadata": {},
   "source": []
  },
  {
   "cell_type": "markdown",
   "metadata": {},
   "source": [
    "### Group by group_id\n"
   ]
  },
  {
   "cell_type": "code",
   "execution_count": 13,
   "metadata": {},
   "outputs": [],
   "source": [
    "train_group_vector_mean = new_train.drop(['pair_id', 'is_train','target'],1).groupby('group_id').agg('mean')"
   ]
  },
  {
   "cell_type": "code",
   "execution_count": 50,
   "metadata": {},
   "outputs": [],
   "source": [
    "train_group_vector_mean_text = train_text.drop(['pair_id', 'is_train','target'],1).groupby('group_id').agg('mean')"
   ]
  },
  {
   "cell_type": "code",
   "execution_count": 51,
   "metadata": {},
   "outputs": [],
   "source": [
    "train_group_vector_mean_text.to_csv('text/train_group_vector_mean_text.csv', index = False)"
   ]
  },
  {
   "cell_type": "code",
   "execution_count": 26,
   "metadata": {
    "scrolled": true
   },
   "outputs": [],
   "source": [
    "train_group_vector_mean.to_csv('vectors_of_groups.csv', index = False)"
   ]
  },
  {
   "cell_type": "markdown",
   "metadata": {},
   "source": [
    "### Find the same group in test"
   ]
  },
  {
   "cell_type": "code",
   "execution_count": null,
   "metadata": {},
   "outputs": [],
   "source": [
    "test_group_vector_mean_text = test_text.drop(['pair_id', 'is_train','target'],1).groupby('group_id').agg('mean')"
   ]
  },
  {
   "cell_type": "code",
   "execution_count": 22,
   "metadata": {},
   "outputs": [],
   "source": []
  },
  {
   "cell_type": "code",
   "execution_count": null,
   "metadata": {},
   "outputs": [],
   "source": [
    "test_group_vector_mean_text.to_csv('text/test_group_vector_mean_text.csv', index = False)"
   ]
  },
  {
   "cell_type": "code",
   "execution_count": null,
   "metadata": {},
   "outputs": [],
   "source": [
    "test_group_vector_mean = new_test.drop(['pair_id', 'is_train'],1).groupby('group_id').agg('mean')"
   ]
  },
  {
   "cell_type": "code",
   "execution_count": 25,
   "metadata": {
    "scrolled": true
   },
   "outputs": [],
   "source": [
    "test_group_vector_mean.to_csv('test_vectors_of_groups.csv', index = False)"
   ]
  },
  {
   "cell_type": "code",
   "execution_count": 16,
   "metadata": {},
   "outputs": [],
   "source": [
    "\n"
   ]
  },
  {
   "cell_type": "markdown",
   "metadata": {},
   "source": [
    "### find distanses for mean vectors of groups "
   ]
  },
  {
   "cell_type": "code",
   "execution_count": null,
   "metadata": {},
   "outputs": [],
   "source": [
    "cos_mean_text = []\n",
    "\n",
    "for i in tqdm(train_group_vector_mean_text.index):\n",
    "    q = train_group_vector_mean_text.loc[i]\n",
    "    for j in train_text[train_text.group_id == i + 1].index:\n",
    "        cos_mean.append(cosine(q, train_text.drop(['doc_id','pair_id','group_id','is_train','target'],1).loc[j]))\n",
    "    "
   ]
  },
  {
   "cell_type": "code",
   "execution_count": null,
   "metadata": {},
   "outputs": [],
   "source": [
    "train['cos_mean_text'] = cos_mean\n",
    "train.head()"
   ]
  },
  {
   "cell_type": "code",
   "execution_count": 17,
   "metadata": {},
   "outputs": [
    {
     "name": "stderr",
     "output_type": "stream",
     "text": [
      "  0%|          | 0/129 [00:00<?, ?it/s]/home/kirill/playground/env/lib/python3.5/site-packages/scipy/spatial/distance.py:698: RuntimeWarning: invalid value encountered in double_scalars\n",
      "  dist = 1.0 - uv / np.sqrt(uu * vv)\n",
      "100%|██████████| 129/129 [54:04<00:00, 23.84s/it]\n"
     ]
    }
   ],
   "source": [
    "cos_mean = []\n",
    "\n",
    "for i in tqdm(train_vectors_of_groups.index):\n",
    "    q = train_vectors_of_groups.loc[i]\n",
    "    for j in new_train[new_train.group_id == i + 1].index:\n",
    "        cos_mean.append(cosine(q, new_train.drop(['doc_id','pair_id','group_id','is_train','target'],1).loc[j]))\n",
    "    "
   ]
  },
  {
   "cell_type": "code",
   "execution_count": 28,
   "metadata": {},
   "outputs": [
    {
     "name": "stderr",
     "output_type": "stream",
     "text": [
      "/home/kirill/playground/env/lib/python3.5/site-packages/ipykernel_launcher.py:1: SettingWithCopyWarning: \n",
      "A value is trying to be set on a copy of a slice from a DataFrame.\n",
      "Try using .loc[row_indexer,col_indexer] = value instead\n",
      "\n",
      "See the caveats in the documentation: http://pandas.pydata.org/pandas-docs/stable/indexing.html#indexing-view-versus-copy\n",
      "  \"\"\"Entry point for launching an IPython kernel.\n"
     ]
    },
    {
     "data": {
      "text/html": [
       "<div>\n",
       "<style scoped>\n",
       "    .dataframe tbody tr th:only-of-type {\n",
       "        vertical-align: middle;\n",
       "    }\n",
       "\n",
       "    .dataframe tbody tr th {\n",
       "        vertical-align: top;\n",
       "    }\n",
       "\n",
       "    .dataframe thead th {\n",
       "        text-align: right;\n",
       "    }\n",
       "</style>\n",
       "<table border=\"1\" class=\"dataframe\">\n",
       "  <thead>\n",
       "    <tr style=\"text-align: right;\">\n",
       "      <th></th>\n",
       "      <th>pair_id</th>\n",
       "      <th>group_id</th>\n",
       "      <th>doc_id</th>\n",
       "      <th>target</th>\n",
       "      <th>is_train</th>\n",
       "      <th>mean_true_hash</th>\n",
       "      <th>train_group</th>\n",
       "      <th>cos_mean</th>\n",
       "    </tr>\n",
       "  </thead>\n",
       "  <tbody>\n",
       "    <tr>\n",
       "      <th>0</th>\n",
       "      <td>1</td>\n",
       "      <td>1</td>\n",
       "      <td>15731</td>\n",
       "      <td>0</td>\n",
       "      <td>True</td>\n",
       "      <td>0.975970</td>\n",
       "      <td>0.0</td>\n",
       "      <td>0.506909</td>\n",
       "    </tr>\n",
       "    <tr>\n",
       "      <th>1</th>\n",
       "      <td>2</td>\n",
       "      <td>1</td>\n",
       "      <td>14829</td>\n",
       "      <td>0</td>\n",
       "      <td>True</td>\n",
       "      <td>0.939010</td>\n",
       "      <td>0.0</td>\n",
       "      <td>0.585735</td>\n",
       "    </tr>\n",
       "    <tr>\n",
       "      <th>2</th>\n",
       "      <td>3</td>\n",
       "      <td>1</td>\n",
       "      <td>15764</td>\n",
       "      <td>0</td>\n",
       "      <td>True</td>\n",
       "      <td>0.965664</td>\n",
       "      <td>0.0</td>\n",
       "      <td>0.773604</td>\n",
       "    </tr>\n",
       "    <tr>\n",
       "      <th>3</th>\n",
       "      <td>4</td>\n",
       "      <td>1</td>\n",
       "      <td>17669</td>\n",
       "      <td>0</td>\n",
       "      <td>True</td>\n",
       "      <td>0.990659</td>\n",
       "      <td>0.0</td>\n",
       "      <td>0.950442</td>\n",
       "    </tr>\n",
       "    <tr>\n",
       "      <th>4</th>\n",
       "      <td>5</td>\n",
       "      <td>1</td>\n",
       "      <td>14852</td>\n",
       "      <td>0</td>\n",
       "      <td>True</td>\n",
       "      <td>0.950488</td>\n",
       "      <td>0.0</td>\n",
       "      <td>0.670281</td>\n",
       "    </tr>\n",
       "  </tbody>\n",
       "</table>\n",
       "</div>"
      ],
      "text/plain": [
       "   pair_id  group_id  doc_id  target  is_train  mean_true_hash  train_group  \\\n",
       "0        1         1   15731       0      True        0.975970          0.0   \n",
       "1        2         1   14829       0      True        0.939010          0.0   \n",
       "2        3         1   15764       0      True        0.965664          0.0   \n",
       "3        4         1   17669       0      True        0.990659          0.0   \n",
       "4        5         1   14852       0      True        0.950488          0.0   \n",
       "\n",
       "   cos_mean  \n",
       "0  0.506909  \n",
       "1  0.585735  \n",
       "2  0.773604  \n",
       "3  0.950442  \n",
       "4  0.670281  "
      ]
     },
     "execution_count": 28,
     "metadata": {},
     "output_type": "execute_result"
    }
   ],
   "source": [
    "train1['cos_mean'] = cos_mean\n",
    "train1.head()"
   ]
  },
  {
   "cell_type": "code",
   "execution_count": 30,
   "metadata": {},
   "outputs": [
    {
     "data": {
      "text/html": [
       "<div>\n",
       "<style scoped>\n",
       "    .dataframe tbody tr th:only-of-type {\n",
       "        vertical-align: middle;\n",
       "    }\n",
       "\n",
       "    .dataframe tbody tr th {\n",
       "        vertical-align: top;\n",
       "    }\n",
       "\n",
       "    .dataframe thead th {\n",
       "        text-align: right;\n",
       "    }\n",
       "</style>\n",
       "<table border=\"1\" class=\"dataframe\">\n",
       "  <thead>\n",
       "    <tr style=\"text-align: right;\">\n",
       "      <th></th>\n",
       "      <th>pair_id</th>\n",
       "      <th>group_id</th>\n",
       "      <th>doc_id</th>\n",
       "      <th>target</th>\n",
       "      <th>is_train</th>\n",
       "      <th>mean_true_hash</th>\n",
       "      <th>train_group</th>\n",
       "      <th>cos_mean</th>\n",
       "    </tr>\n",
       "  </thead>\n",
       "  <tbody>\n",
       "    <tr>\n",
       "      <th>pair_id</th>\n",
       "      <td>1.000000</td>\n",
       "      <td>0.999900</td>\n",
       "      <td>-0.121821</td>\n",
       "      <td>0.041701</td>\n",
       "      <td>NaN</td>\n",
       "      <td>-0.021072</td>\n",
       "      <td>0.103803</td>\n",
       "      <td>-0.070021</td>\n",
       "    </tr>\n",
       "    <tr>\n",
       "      <th>group_id</th>\n",
       "      <td>0.999900</td>\n",
       "      <td>1.000000</td>\n",
       "      <td>-0.122197</td>\n",
       "      <td>0.041418</td>\n",
       "      <td>NaN</td>\n",
       "      <td>-0.020639</td>\n",
       "      <td>0.102131</td>\n",
       "      <td>-0.069258</td>\n",
       "    </tr>\n",
       "    <tr>\n",
       "      <th>doc_id</th>\n",
       "      <td>-0.121821</td>\n",
       "      <td>-0.122197</td>\n",
       "      <td>1.000000</td>\n",
       "      <td>-0.017996</td>\n",
       "      <td>NaN</td>\n",
       "      <td>-0.049112</td>\n",
       "      <td>-0.081367</td>\n",
       "      <td>-0.065106</td>\n",
       "    </tr>\n",
       "    <tr>\n",
       "      <th>target</th>\n",
       "      <td>0.041701</td>\n",
       "      <td>0.041418</td>\n",
       "      <td>-0.017996</td>\n",
       "      <td>1.000000</td>\n",
       "      <td>NaN</td>\n",
       "      <td>0.142582</td>\n",
       "      <td>0.254589</td>\n",
       "      <td>-0.254728</td>\n",
       "    </tr>\n",
       "    <tr>\n",
       "      <th>is_train</th>\n",
       "      <td>NaN</td>\n",
       "      <td>NaN</td>\n",
       "      <td>NaN</td>\n",
       "      <td>NaN</td>\n",
       "      <td>NaN</td>\n",
       "      <td>NaN</td>\n",
       "      <td>NaN</td>\n",
       "      <td>NaN</td>\n",
       "    </tr>\n",
       "    <tr>\n",
       "      <th>mean_true_hash</th>\n",
       "      <td>-0.021072</td>\n",
       "      <td>-0.020639</td>\n",
       "      <td>-0.049112</td>\n",
       "      <td>0.142582</td>\n",
       "      <td>NaN</td>\n",
       "      <td>1.000000</td>\n",
       "      <td>0.084109</td>\n",
       "      <td>0.152689</td>\n",
       "    </tr>\n",
       "    <tr>\n",
       "      <th>train_group</th>\n",
       "      <td>0.103803</td>\n",
       "      <td>0.102131</td>\n",
       "      <td>-0.081367</td>\n",
       "      <td>0.254589</td>\n",
       "      <td>NaN</td>\n",
       "      <td>0.084109</td>\n",
       "      <td>1.000000</td>\n",
       "      <td>-0.199284</td>\n",
       "    </tr>\n",
       "    <tr>\n",
       "      <th>cos_mean</th>\n",
       "      <td>-0.070021</td>\n",
       "      <td>-0.069258</td>\n",
       "      <td>-0.065106</td>\n",
       "      <td>-0.254728</td>\n",
       "      <td>NaN</td>\n",
       "      <td>0.152689</td>\n",
       "      <td>-0.199284</td>\n",
       "      <td>1.000000</td>\n",
       "    </tr>\n",
       "  </tbody>\n",
       "</table>\n",
       "</div>"
      ],
      "text/plain": [
       "                 pair_id  group_id    doc_id    target  is_train  \\\n",
       "pair_id         1.000000  0.999900 -0.121821  0.041701       NaN   \n",
       "group_id        0.999900  1.000000 -0.122197  0.041418       NaN   \n",
       "doc_id         -0.121821 -0.122197  1.000000 -0.017996       NaN   \n",
       "target          0.041701  0.041418 -0.017996  1.000000       NaN   \n",
       "is_train             NaN       NaN       NaN       NaN       NaN   \n",
       "mean_true_hash -0.021072 -0.020639 -0.049112  0.142582       NaN   \n",
       "train_group     0.103803  0.102131 -0.081367  0.254589       NaN   \n",
       "cos_mean       -0.070021 -0.069258 -0.065106 -0.254728       NaN   \n",
       "\n",
       "                mean_true_hash  train_group  cos_mean  \n",
       "pair_id              -0.021072     0.103803 -0.070021  \n",
       "group_id             -0.020639     0.102131 -0.069258  \n",
       "doc_id               -0.049112    -0.081367 -0.065106  \n",
       "target                0.142582     0.254589 -0.254728  \n",
       "is_train                   NaN          NaN       NaN  \n",
       "mean_true_hash        1.000000     0.084109  0.152689  \n",
       "train_group           0.084109     1.000000 -0.199284  \n",
       "cos_mean              0.152689    -0.199284  1.000000  "
      ]
     },
     "execution_count": 30,
     "metadata": {},
     "output_type": "execute_result"
    }
   ],
   "source": [
    "train1.corr()"
   ]
  },
  {
   "cell_type": "code",
   "execution_count": null,
   "metadata": {},
   "outputs": [],
   "source": [
    "cos_mean_text2 = []\n",
    "for i in tqdm(test_group_vector_mean_text.index):\n",
    "    q = test_group_vector_mean_text.loc[i]\n",
    "    for j in test_text[test_text.group_id == i + 130].index:\n",
    "        cos_mean2.append(cosine(q, test_text.drop(['doc_id','pair_id','group_id','is_train'],1).loc[j]))"
   ]
  },
  {
   "cell_type": "code",
   "execution_count": null,
   "metadata": {},
   "outputs": [],
   "source": [
    "\n",
    "test['cos_mean_text'] = cos_mean_text2\n",
    "test.head()"
   ]
  },
  {
   "cell_type": "code",
   "execution_count": 19,
   "metadata": {},
   "outputs": [
    {
     "name": "stderr",
     "output_type": "stream",
     "text": [
      "  0%|          | 0/180 [00:00<?, ?it/s]/home/kirill/playground/env/lib/python3.5/site-packages/scipy/spatial/distance.py:698: RuntimeWarning: invalid value encountered in double_scalars\n",
      "  dist = 1.0 - uv / np.sqrt(uu * vv)\n",
      "100%|██████████| 180/180 [1:48:16<00:00, 35.95s/it]\n"
     ]
    }
   ],
   "source": [
    "cos_mean2 = []\n",
    "for i in tqdm(test_vectors_of_groups.index):\n",
    "    q = test_vectors_of_groups.loc[i]\n",
    "    for j in new_test[new_test.group_id == i + 130].index:\n",
    "        cos_mean2.append(cosine(q, new_test.drop(['doc_id','pair_id','group_id','is_train'],1).loc[j]))"
   ]
  },
  {
   "cell_type": "code",
   "execution_count": 20,
   "metadata": {},
   "outputs": [
    {
     "data": {
      "text/html": [
       "<div>\n",
       "<style scoped>\n",
       "    .dataframe tbody tr th:only-of-type {\n",
       "        vertical-align: middle;\n",
       "    }\n",
       "\n",
       "    .dataframe tbody tr th {\n",
       "        vertical-align: top;\n",
       "    }\n",
       "\n",
       "    .dataframe thead th {\n",
       "        text-align: right;\n",
       "    }\n",
       "</style>\n",
       "<table border=\"1\" class=\"dataframe\">\n",
       "  <thead>\n",
       "    <tr style=\"text-align: right;\">\n",
       "      <th></th>\n",
       "      <th>pair_id</th>\n",
       "      <th>group_id</th>\n",
       "      <th>doc_id</th>\n",
       "      <th>is_train</th>\n",
       "      <th>cos_mean</th>\n",
       "    </tr>\n",
       "  </thead>\n",
       "  <tbody>\n",
       "    <tr>\n",
       "      <th>0</th>\n",
       "      <td>11691</td>\n",
       "      <td>130</td>\n",
       "      <td>6710</td>\n",
       "      <td>False</td>\n",
       "      <td>0.553029</td>\n",
       "    </tr>\n",
       "    <tr>\n",
       "      <th>1</th>\n",
       "      <td>11692</td>\n",
       "      <td>130</td>\n",
       "      <td>4030</td>\n",
       "      <td>False</td>\n",
       "      <td>0.806924</td>\n",
       "    </tr>\n",
       "    <tr>\n",
       "      <th>2</th>\n",
       "      <td>11693</td>\n",
       "      <td>130</td>\n",
       "      <td>5561</td>\n",
       "      <td>False</td>\n",
       "      <td>0.641318</td>\n",
       "    </tr>\n",
       "    <tr>\n",
       "      <th>3</th>\n",
       "      <td>11694</td>\n",
       "      <td>130</td>\n",
       "      <td>4055</td>\n",
       "      <td>False</td>\n",
       "      <td>0.629449</td>\n",
       "    </tr>\n",
       "    <tr>\n",
       "      <th>4</th>\n",
       "      <td>11695</td>\n",
       "      <td>130</td>\n",
       "      <td>4247</td>\n",
       "      <td>False</td>\n",
       "      <td>0.752520</td>\n",
       "    </tr>\n",
       "  </tbody>\n",
       "</table>\n",
       "</div>"
      ],
      "text/plain": [
       "   pair_id  group_id  doc_id  is_train  cos_mean\n",
       "0    11691       130    6710     False  0.553029\n",
       "1    11692       130    4030     False  0.806924\n",
       "2    11693       130    5561     False  0.641318\n",
       "3    11694       130    4055     False  0.629449\n",
       "4    11695       130    4247     False  0.752520"
      ]
     },
     "execution_count": 20,
     "metadata": {},
     "output_type": "execute_result"
    }
   ],
   "source": [
    "\n",
    "test['cos_mean'] = cos_mean2\n",
    "test.head()"
   ]
  },
  {
   "cell_type": "code",
   "execution_count": 70,
   "metadata": {},
   "outputs": [],
   "source": [
    "new_train.train_group = new_train.train_group.replace(np.nan, 0)\n"
   ]
  },
  {
   "cell_type": "code",
   "execution_count": 57,
   "metadata": {},
   "outputs": [],
   "source": [
    "new_test.train_group = new_test.train_group.replace(np.nan, 0)"
   ]
  },
  {
   "cell_type": "code",
   "execution_count": 74,
   "metadata": {},
   "outputs": [],
   "source": [
    "new_train.to_csv('new_train.csv', index = False)\n",
    "new_test.to_csv('new_test.csv', index = False)"
   ]
  },
  {
   "cell_type": "code",
   "execution_count": 73,
   "metadata": {},
   "outputs": [
    {
     "data": {
      "text/html": [
       "<div>\n",
       "<style scoped>\n",
       "    .dataframe tbody tr th:only-of-type {\n",
       "        vertical-align: middle;\n",
       "    }\n",
       "\n",
       "    .dataframe tbody tr th {\n",
       "        vertical-align: top;\n",
       "    }\n",
       "\n",
       "    .dataframe thead th {\n",
       "        text-align: right;\n",
       "    }\n",
       "</style>\n",
       "<table border=\"1\" class=\"dataframe\">\n",
       "  <thead>\n",
       "    <tr style=\"text-align: right;\">\n",
       "      <th></th>\n",
       "      <th>pair_id</th>\n",
       "      <th>group_id</th>\n",
       "      <th>doc_id</th>\n",
       "      <th>target</th>\n",
       "      <th>is_train</th>\n",
       "      <th>mean_true_hash</th>\n",
       "      <th>train_group</th>\n",
       "    </tr>\n",
       "  </thead>\n",
       "  <tbody>\n",
       "    <tr>\n",
       "      <th>0</th>\n",
       "      <td>1</td>\n",
       "      <td>1</td>\n",
       "      <td>15731</td>\n",
       "      <td>0</td>\n",
       "      <td>True</td>\n",
       "      <td>0.975970</td>\n",
       "      <td>0.0</td>\n",
       "    </tr>\n",
       "    <tr>\n",
       "      <th>1</th>\n",
       "      <td>2</td>\n",
       "      <td>1</td>\n",
       "      <td>14829</td>\n",
       "      <td>0</td>\n",
       "      <td>True</td>\n",
       "      <td>0.939010</td>\n",
       "      <td>0.0</td>\n",
       "    </tr>\n",
       "    <tr>\n",
       "      <th>2</th>\n",
       "      <td>3</td>\n",
       "      <td>1</td>\n",
       "      <td>15764</td>\n",
       "      <td>0</td>\n",
       "      <td>True</td>\n",
       "      <td>0.965664</td>\n",
       "      <td>0.0</td>\n",
       "    </tr>\n",
       "    <tr>\n",
       "      <th>3</th>\n",
       "      <td>4</td>\n",
       "      <td>1</td>\n",
       "      <td>17669</td>\n",
       "      <td>0</td>\n",
       "      <td>True</td>\n",
       "      <td>0.990659</td>\n",
       "      <td>0.0</td>\n",
       "    </tr>\n",
       "    <tr>\n",
       "      <th>4</th>\n",
       "      <td>5</td>\n",
       "      <td>1</td>\n",
       "      <td>14852</td>\n",
       "      <td>0</td>\n",
       "      <td>True</td>\n",
       "      <td>0.950488</td>\n",
       "      <td>0.0</td>\n",
       "    </tr>\n",
       "  </tbody>\n",
       "</table>\n",
       "</div>"
      ],
      "text/plain": [
       "   pair_id  group_id  doc_id  target  is_train  mean_true_hash  train_group\n",
       "0        1         1   15731       0      True        0.975970          0.0\n",
       "1        2         1   14829       0      True        0.939010          0.0\n",
       "2        3         1   15764       0      True        0.965664          0.0\n",
       "3        4         1   17669       0      True        0.990659          0.0\n",
       "4        5         1   14852       0      True        0.950488          0.0"
      ]
     },
     "execution_count": 73,
     "metadata": {},
     "output_type": "execute_result"
    }
   ],
   "source": [
    "new_train.head()"
   ]
  },
  {
   "cell_type": "markdown",
   "metadata": {},
   "source": [
    "## find distances for mean vector of all true data"
   ]
  },
  {
   "cell_type": "code",
   "execution_count": 25,
   "metadata": {},
   "outputs": [],
   "source": [
    "def make_cos(vector, new_test = new_test):\n",
    "    cos = []\n",
    "    for i in  new_test.index:\n",
    "        cos.append(cosine(vector, new_test.loc[i]))\n",
    "    return cos"
   ]
  },
  {
   "cell_type": "code",
   "execution_count": 35,
   "metadata": {
    "scrolled": true
   },
   "outputs": [
    {
     "name": "stderr",
     "output_type": "stream",
     "text": [
      "/home/kirill/playground/env/lib/python3.5/site-packages/scipy/spatial/distance.py:698: RuntimeWarning: invalid value encountered in float_scalars\n",
      "  dist = 1.0 - uv / np.sqrt(uu * vv)\n"
     ]
    }
   ],
   "source": [
    "train_mean_true = make_cos(true_false_vector_mean.loc[0], new_test = new_train.drop('target', 1))\n",
    "test_mean_true = make_cos(true_false_vector_mean.loc[0])\n"
   ]
  },
  {
   "cell_type": "code",
   "execution_count": 37,
   "metadata": {},
   "outputs": [],
   "source": [
    "train['mean_true_hash'] = train_mean_true\n",
    "test['mean_true_hash'] = test_mean_true\n"
   ]
  },
  {
   "cell_type": "code",
   "execution_count": null,
   "metadata": {},
   "outputs": [],
   "source": []
  },
  {
   "cell_type": "markdown",
   "metadata": {},
   "source": [
    "### Data preporation"
   ]
  },
  {
   "cell_type": "code",
   "execution_count": 69,
   "metadata": {},
   "outputs": [
    {
     "name": "stdout",
     "output_type": "stream",
     "text": [
      "28026\n"
     ]
    }
   ],
   "source": [
    "doc_to_title = {}\n",
    "with open('../../data/docs_titles.tsv') as f:\n",
    "    for num_line, line in enumerate(f):\n",
    "        if num_line == 0:\n",
    "            continue\n",
    "        data = line.strip().split('\\t', 1)\n",
    "        doc_id = int(data[0])\n",
    "        if len(data) == 1:\n",
    "            title = ''\n",
    "        else:\n",
    "            title = data[1]\n",
    "        doc_to_title[doc_id] = title\n",
    "print (len(doc_to_title))"
   ]
  },
  {
   "cell_type": "code",
   "execution_count": 78,
   "metadata": {},
   "outputs": [],
   "source": [
    "traingroups_titledata = {}\n",
    "for i in range(len(train1)):\n",
    "    new_doc = train1.iloc[i]\n",
    "    doc_group = new_doc['group_id']\n",
    "    doc_id = new_doc['doc_id']\n",
    "    target = new_doc['target']\n",
    "    title = doc_to_title[doc_id]\n",
    "    if doc_group not in traingroups_titledata:\n",
    "        traingroups_titledata[doc_group] = []\n",
    "    traingroups_titledata[doc_group].append((doc_id, title, target))\n",
    "    \n",
    "testgroups_titledata = {}\n",
    "for i in range(len(test1)):\n",
    "    new_doc = test1.iloc[i]\n",
    "    doc_group = new_doc['group_id']\n",
    "    doc_id = new_doc['doc_id']\n",
    "    title = doc_to_title[doc_id]\n",
    "    if doc_group not in testgroups_titledata:\n",
    "        testgroups_titledata[doc_group] = []\n",
    "    testgroups_titledata[doc_group].append((doc_id, title))"
   ]
  },
  {
   "cell_type": "code",
   "execution_count": 79,
   "metadata": {},
   "outputs": [
    {
     "name": "stdout",
     "output_type": "stream",
     "text": [
      "(11690, 15) (11690,) (11690,)\n"
     ]
    }
   ],
   "source": [
    "import numpy as np\n",
    "y_train = []\n",
    "X_train = []\n",
    "groups_train = []\n",
    "for new_group in traingroups_titledata:\n",
    "    docs = traingroups_titledata[new_group]\n",
    "    for k, (doc_id, title, target_id) in enumerate(docs):\n",
    "        y_train.append(target_id)\n",
    "        groups_train.append(new_group)\n",
    "        all_dist = []\n",
    "        words = set(title.strip().split())\n",
    "        for j in range(0, len(docs)):\n",
    "            if k == j:\n",
    "                continue\n",
    "            doc_id_j, title_j, target_j = docs[j]\n",
    "            words_j = set(title_j.strip().split())\n",
    "            all_dist.append(len(words.intersection(words_j)))\n",
    "        X_train.append(sorted(all_dist, reverse=True)[0:15]    )\n",
    "X_train = np.array(X_train)\n",
    "y_train = np.array(y_train)\n",
    "groups_train = np.array(groups_train)\n",
    "print (X_train.shape, y_train.shape, groups_train.shape)"
   ]
  }
 ],
 "metadata": {
  "kernelspec": {
   "display_name": "Python 3",
   "language": "python",
   "name": "python3"
  },
  "language_info": {
   "codemirror_mode": {
    "name": "ipython",
    "version": 3
   },
   "file_extension": ".py",
   "mimetype": "text/x-python",
   "name": "python",
   "nbconvert_exporter": "python",
   "pygments_lexer": "ipython3",
   "version": "3.5.2"
  }
 },
 "nbformat": 4,
 "nbformat_minor": 2
}
